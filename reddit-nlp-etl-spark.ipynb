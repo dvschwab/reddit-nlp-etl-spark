{
 "cells": [
  {
   "cell_type": "code",
   "execution_count": 1,
   "metadata": {},
   "outputs": [],
   "source": [
    "import json\n",
    "import os\n",
    "import requests\n",
    "import numpy as np\n",
    "import pandas as pd\n",
    "import bz2\n"
   ]
  },
  {
   "cell_type": "code",
   "execution_count": 2,
   "metadata": {},
   "outputs": [],
   "source": [
    "# Generate a list of URLs for the reddit files\n",
    "\n",
    "url_stub = 'https://files.pushshift.io/reddit/comments/'\n",
    "file_urls = []\n",
    "\n",
    "for year in range(2006,2020):\n",
    "    \n",
    "    # Set extension by year for most files\n",
    "    \n",
    "    if year < 2018:\n",
    "        extension = '.bz2'\n",
    "    elif year < 2019:\n",
    "        extension = '.xz'\n",
    "    else:\n",
    "        extension = '.zst'\n",
    "    \n",
    "    # Loop over each file and print its name\n",
    "    for month in range(1,13):\n",
    "        \n",
    "        # Handle a few special cases    \n",
    "        if (year == 2017 and month == 12):\n",
    "            extension = '.xz'\n",
    "        if (year == 2018 and month in [11,12]):\n",
    "            extension = '.zst'\n",
    "\n",
    "        # Create the file name, adding the leading zero\n",
    "        # if the month is 1 - 9\n",
    "        if month < 10:\n",
    "            file = 'RC_' + str(year) + '-0' + str(month) + extension\n",
    "        else:\n",
    "            file = 'RC_' + str(year) + '-' + str(month) + extension\n",
    "            \n",
    "        file_urls.append(url_stub + file)"
   ]
  },
  {
   "cell_type": "code",
   "execution_count": 3,
   "metadata": {},
   "outputs": [],
   "source": [
    "%%script false --no-raise-error\n",
    "\n",
    "# Files have already been retrieved and saved\n",
    "\n",
    "# Retrieve a sample file from each year\n",
    "# The month is staggered so a different month\n",
    "# will be chosen for each year\n",
    "\n",
    "for i in range(0,169, 11):\n",
    "    \n",
    "    response = requests.get(file_urls[i])\n",
    "    \n",
    "    # Extract the file name from the URL and generate\n",
    "    # the save path\n",
    "    file_download = file_urls[i].split('/')[5]\n",
    "    file_saved = 'Reddit_Posts\\\\zipped\\\\' + file_download\n",
    "    \n",
    "    # Write the file (i.e. bytes)\n",
    "    # This is very slow for large files and may hang\n",
    "    with open(file_saved, 'wb') as f:\n",
    "        f.write(response.content)"
   ]
  },
  {
   "cell_type": "code",
   "execution_count": 14,
   "metadata": {},
   "outputs": [],
   "source": [
    "# Decompress one file as a test\n",
    "# content will be a byte stream\n",
    "\n",
    "file_compressed = 'Reddit_Posts\\\\zipped\\\\RC_2006-01.bz2'\n",
    "\n",
    "with bz2.open(file_compressed,'rb') as f:\n",
    "    content = f.read()\n",
    "\n"
   ]
  },
  {
   "cell_type": "code",
   "execution_count": 9,
   "metadata": {},
   "outputs": [],
   "source": [
    "# Extract the first record from the content\n",
    "\n",
    "record = ''\n",
    "\n",
    "for i in range(0, 1000):\n",
    "    \n",
    "    # Needed so char is a character, not an integer\n",
    "    char = content.decode()[i]\n",
    "    \n",
    "    # Concatenate each character, breaking on the '}' (i.e. end of record)\n",
    "    if char != '}':\n",
    "        record += char\n",
    "    elif char == '}':\n",
    "        record += char\n",
    "        break\n"
   ]
  },
  {
   "cell_type": "code",
   "execution_count": null,
   "metadata": {},
   "outputs": [],
   "source": [
    "print(content.decode())"
   ]
  },
  {
   "cell_type": "code",
   "execution_count": 16,
   "metadata": {},
   "outputs": [
    {
     "data": {
      "text/plain": [
       "str"
      ]
     },
     "execution_count": 16,
     "metadata": {},
     "output_type": "execute_result"
    }
   ],
   "source": []
  }
 ],
 "metadata": {
  "kernelspec": {
   "display_name": "reddit-nlp-env",
   "language": "python",
   "name": "reddit-nlp-env"
  },
  "language_info": {
   "codemirror_mode": {
    "name": "ipython",
    "version": 3
   },
   "file_extension": ".py",
   "mimetype": "text/x-python",
   "name": "python",
   "nbconvert_exporter": "python",
   "pygments_lexer": "ipython3",
   "version": "3.8.10"
  }
 },
 "nbformat": 4,
 "nbformat_minor": 4
}
