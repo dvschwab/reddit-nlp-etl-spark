{
 "cells": [
  {
   "cell_type": "code",
   "execution_count": 3,
   "metadata": {},
   "outputs": [],
   "source": [
    "import json\n",
    "import os\n",
    "import requests\n",
    "import numpy as np\n",
    "import pandas as pd\n",
    "import bz2\n"
   ]
  },
  {
   "cell_type": "code",
   "execution_count": 4,
   "metadata": {},
   "outputs": [],
   "source": [
    "# Generate a list of URLs for the reddit files\n",
    "\n",
    "url_stub = 'https://files.pushshift.io/reddit/comments/'\n",
    "file_urls = []\n",
    "\n",
    "for year in range(2006,2020):\n",
    "    \n",
    "    # Set extension by year for most files\n",
    "    \n",
    "    if year < 2018:\n",
    "        extension = '.bz2'\n",
    "    elif year < 2019:\n",
    "        extension = '.xz'\n",
    "    else:\n",
    "        extension = '.zst'\n",
    "    \n",
    "    # Loop over each file and print its name\n",
    "    for month in range(1,13):\n",
    "        \n",
    "        # Handle a few special cases    \n",
    "        if (year == 2017 and month == 12):\n",
    "            extension = '.xz'\n",
    "        if (year == 2018 and month in [11,12]):\n",
    "            extension = '.zst'\n",
    "\n",
    "        # Create the file name, adding the leading zero\n",
    "        # if the month is 1 - 9\n",
    "        if month < 10:\n",
    "            file = 'RC_' + str(year) + '-0' + str(month) + extension\n",
    "        else:\n",
    "            file = 'RC_' + str(year) + '-' + str(month) + extension\n",
    "            \n",
    "        file_urls.append(url_stub + file)"
   ]
  },
  {
   "cell_type": "code",
   "execution_count": 5,
   "metadata": {},
   "outputs": [],
   "source": [
    "%%script false --no-raise-error\n",
    "\n",
    "# Files have already been retrieved and saved\n",
    "\n",
    "# Retrieve a sample file from each year\n",
    "# The month is staggered so a different month\n",
    "# will be chosen for each year\n",
    "\n",
    "for i in range(0,169, 11):\n",
    "    \n",
    "    response = requests.get(file_urls[i])\n",
    "    \n",
    "    # Extract the file name from the URL and generate\n",
    "    # the save path\n",
    "    file_download = file_urls[i].split('/')[5]\n",
    "    file_saved = 'Reddit_Posts\\\\zipped\\\\' + file_download\n",
    "    \n",
    "    # Write the file (i.e. bytes)\n",
    "    # This is very slow for large files and may hang\n",
    "    with open(file_saved, 'wb') as f:\n",
    "        f.write(response.content)"
   ]
  },
  {
   "cell_type": "code",
   "execution_count": 8,
   "metadata": {},
   "outputs": [],
   "source": [
    "\n",
    "file_compressed = 'Reddit_Posts\\\\zipped\\\\RC_2006-01.bz2'\n",
    "\n",
    "with bz2.open(file_compressed,'rb') as f:\n",
    "    content = f.read()\n",
    "\n"
   ]
  },
  {
   "cell_type": "code",
   "execution_count": 10,
   "metadata": {},
   "outputs": [
    {
     "name": "stdout",
     "output_type": "stream",
     "text": [
      "2106991\n",
      "<class 'bytes'>\n"
     ]
    }
   ],
   "source": [
    "print(len(content), type(content), sep='\\n')"
   ]
  },
  {
   "cell_type": "code",
   "execution_count": 11,
   "metadata": {},
   "outputs": [
    {
     "name": "stdout",
     "output_type": "stream",
     "text": [
      "['__add__', '__class__', '__contains__', '__delattr__', '__dir__', '__doc__', '__eq__', '__format__', '__ge__', '__getattribute__', '__getitem__', '__getnewargs__', '__gt__', '__hash__', '__init__', '__init_subclass__', '__iter__', '__le__', '__len__', '__lt__', '__mod__', '__mul__', '__ne__', '__new__', '__reduce__', '__reduce_ex__', '__repr__', '__rmod__', '__rmul__', '__setattr__', '__sizeof__', '__str__', '__subclasshook__', 'capitalize', 'center', 'count', 'decode', 'endswith', 'expandtabs', 'find', 'fromhex', 'hex', 'index', 'isalnum', 'isalpha', 'isascii', 'isdigit', 'islower', 'isspace', 'istitle', 'isupper', 'join', 'ljust', 'lower', 'lstrip', 'maketrans', 'partition', 'replace', 'rfind', 'rindex', 'rjust', 'rpartition', 'rsplit', 'rstrip', 'split', 'splitlines', 'startswith', 'strip', 'swapcase', 'title', 'translate', 'upper', 'zfill']\n"
     ]
    }
   ],
   "source": [
    "print(dir(content))"
   ]
  },
  {
   "cell_type": "code",
   "execution_count": 16,
   "metadata": {},
   "outputs": [
    {
     "data": {
      "text/plain": [
       "b'{\"subreddit\":\"reddit.com\",\"author_flair_css_class\":null,\"created_utc\":1136074029,\"score\":0,\"ups\":0,\"body\":\"early 2006 a probable date\",\"controversiality\":0,\"link_id\":\"t3_22569\",\"stickied\":false,\"subreddit_id\":\"t5_6\",\"gilded\":0,\"retrieved_on\":1473821517,\"distinguished\":null,\"author_flair_text\":null,\"author\":\"jh99\",\"parent_id\":\"t3_22569\",\"edited\":false,\"id\":\"c2715\"}\\n{\"id\":\"c2717\",\"edited\":false,\"parent_id\":\"t3_22542\",\"author_flair_text\":null,\"author\":\"jpb\",\"retrieved_on\":1473821517,\"distinguished\":null,\"gilded\":0,\"link_id\":\"t3_22542\",\"stickied\":false,\"subreddit_id\":\"t5_6\",\"controversiality\":0,\"b'"
      ]
     },
     "execution_count": 16,
     "metadata": {},
     "output_type": "execute_result"
    }
   ],
   "source": [
    "content[0:600]"
   ]
  },
  {
   "cell_type": "code",
   "execution_count": 33,
   "metadata": {},
   "outputs": [
    {
     "ename": "TypeError",
     "evalue": "join() takes exactly one argument (2 given)",
     "output_type": "error",
     "traceback": [
      "\u001b[1;31m---------------------------------------------------------------------------\u001b[0m",
      "\u001b[1;31mTypeError\u001b[0m                                 Traceback (most recent call last)",
      "\u001b[1;32m<ipython-input-33-15f3c1efd7f9>\u001b[0m in \u001b[0;36m<module>\u001b[1;34m\u001b[0m\n\u001b[0;32m      6\u001b[0m \u001b[1;33m\u001b[0m\u001b[0m\n\u001b[0;32m      7\u001b[0m     \u001b[1;32mif\u001b[0m \u001b[0mchar\u001b[0m \u001b[1;33m!=\u001b[0m \u001b[1;34m'}'\u001b[0m\u001b[1;33m:\u001b[0m\u001b[1;33m\u001b[0m\u001b[1;33m\u001b[0m\u001b[0m\n\u001b[1;32m----> 8\u001b[1;33m         \u001b[0mrecord\u001b[0m\u001b[1;33m.\u001b[0m\u001b[0mjoin\u001b[0m\u001b[1;33m(\u001b[0m\u001b[0mchar\u001b[0m\u001b[1;33m,\u001b[0m \u001b[1;34m'\\n'\u001b[0m\u001b[1;33m)\u001b[0m\u001b[1;33m\u001b[0m\u001b[1;33m\u001b[0m\u001b[0m\n\u001b[0m\u001b[0;32m      9\u001b[0m         \u001b[0mcontent_json\u001b[0m\u001b[1;33m.\u001b[0m\u001b[0mappend\u001b[0m\u001b[1;33m(\u001b[0m\u001b[0mrecord\u001b[0m\u001b[1;33m)\u001b[0m\u001b[1;33m\u001b[0m\u001b[1;33m\u001b[0m\u001b[0m\n\u001b[0;32m     10\u001b[0m     \u001b[1;32melif\u001b[0m \u001b[0mchar\u001b[0m \u001b[1;33m==\u001b[0m \u001b[1;34m'}'\u001b[0m\u001b[1;33m:\u001b[0m\u001b[1;33m\u001b[0m\u001b[1;33m\u001b[0m\u001b[0m\n",
      "\u001b[1;31mTypeError\u001b[0m: join() takes exactly one argument (2 given)"
     ]
    }
   ],
   "source": [
    "content_json = []\n",
    "record = ''\n",
    "\n",
    "for i in range(0, 1000):\n",
    "    char = content.decode()[i]\n",
    "    \n",
    "    if char != '}':\n",
    "        record.join(char)\n",
    "        content_json.append(record)\n",
    "    elif char == '}':\n",
    "        record.join(char)\n",
    "        content_json.append(record)\n",
    "        break\n"
   ]
  },
  {
   "cell_type": "code",
   "execution_count": 30,
   "metadata": {},
   "outputs": [
    {
     "name": "stdout",
     "output_type": "stream",
     "text": [
      "['{', '\"', 's', 'u', 'b', 'r', 'e', 'd', 'd', 'i', 't', '\"', ':', '\"', 'r', 'e', 'd', 'd', 'i', 't', '.', 'c', 'o', 'm', '\"', ',', '\"', 'a', 'u', 't', 'h', 'o', 'r', '_', 'f', 'l', 'a', 'i', 'r', '_', 'c', 's', 's', '_', 'c', 'l', 'a', 's', 's', '\"', ':', 'n', 'u', 'l', 'l', ',', '\"', 'c', 'r', 'e', 'a', 't', 'e', 'd', '_', 'u', 't', 'c', '\"', ':', '1', '1', '3', '6', '0', '7', '4', '0', '2', '9', ',', '\"', 's', 'c', 'o', 'r', 'e', '\"', ':', '0', ',', '\"', 'u', 'p', 's', '\"', ':', '0', ',', '\"', 'b', 'o', 'd', 'y', '\"', ':', '\"', 'e', 'a', 'r', 'l', 'y', ' ', '2', '0', '0', '6', ' ', 'a', ' ', 'p', 'r', 'o', 'b', 'a', 'b', 'l', 'e', ' ', 'd', 'a', 't', 'e', '\"', ',', '\"', 'c', 'o', 'n', 't', 'r', 'o', 'v', 'e', 'r', 's', 'i', 'a', 'l', 'i', 't', 'y', '\"', ':', '0', ',', '\"', 'l', 'i', 'n', 'k', '_', 'i', 'd', '\"', ':', '\"', 't', '3', '_', '2', '2', '5', '6', '9', '\"', ',', '\"', 's', 't', 'i', 'c', 'k', 'i', 'e', 'd', '\"', ':', 'f', 'a', 'l', 's', 'e', ',', '\"', 's', 'u', 'b', 'r', 'e', 'd', 'd', 'i', 't', '_', 'i', 'd', '\"', ':', '\"', 't', '5', '_', '6', '\"', ',', '\"', 'g', 'i', 'l', 'd', 'e', 'd', '\"', ':', '0', ',', '\"', 'r', 'e', 't', 'r', 'i', 'e', 'v', 'e', 'd', '_', 'o', 'n', '\"', ':', '1', '4', '7', '3', '8', '2', '1', '5', '1', '7', ',', '\"', 'd', 'i', 's', 't', 'i', 'n', 'g', 'u', 'i', 's', 'h', 'e', 'd', '\"', ':', 'n', 'u', 'l', 'l', ',', '\"', 'a', 'u', 't', 'h', 'o', 'r', '_', 'f', 'l', 'a', 'i', 'r', '_', 't', 'e', 'x', 't', '\"', ':', 'n', 'u', 'l', 'l', ',', '\"', 'a', 'u', 't', 'h', 'o', 'r', '\"', ':', '\"', 'j', 'h', '9', '9', '\"', ',', '\"', 'p', 'a', 'r', 'e', 'n', 't', '_', 'i', 'd', '\"', ':', '\"', 't', '3', '_', '2', '2', '5', '6', '9', '\"', ',', '\"', 'e', 'd', 'i', 't', 'e', 'd', '\"', ':', 'f', 'a', 'l', 's', 'e', ',', '\"', 'i', 'd', '\"', ':', '\"', 'c', '2', '7', '1', '5', '\"', '}']\n"
     ]
    }
   ],
   "source": [
    "print(content_json)"
   ]
  },
  {
   "cell_type": "code",
   "execution_count": null,
   "metadata": {},
   "outputs": [],
   "source": []
  }
 ],
 "metadata": {
  "kernelspec": {
   "display_name": "reddit-nlp-env",
   "language": "python",
   "name": "reddit-nlp-env"
  },
  "language_info": {
   "codemirror_mode": {
    "name": "ipython",
    "version": 3
   },
   "file_extension": ".py",
   "mimetype": "text/x-python",
   "name": "python",
   "nbconvert_exporter": "python",
   "pygments_lexer": "ipython3",
   "version": "3.8.10"
  }
 },
 "nbformat": 4,
 "nbformat_minor": 4
}
